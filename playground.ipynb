{
 "cells": [
  {
   "cell_type": "code",
   "execution_count": null,
   "id": "8f1743a5",
   "metadata": {},
   "outputs": [
    {
     "ename": "KeyError",
     "evalue": "'AnovaAnalysis'",
     "output_type": "error",
     "traceback": [
      "\u001b[31m---------------------------------------------------------------------------\u001b[39m",
      "\u001b[31mKeyError\u001b[39m                                  Traceback (most recent call last)",
      "\u001b[36mCell\u001b[39m\u001b[36m \u001b[39m\u001b[32mIn[4]\u001b[39m\u001b[32m, line 19\u001b[39m\n\u001b[32m     16\u001b[39m upper_limit = \u001b[38;5;28mfloat\u001b[39m(df[config.upper_limit_col].iloc[\u001b[32m0\u001b[39m])\n\u001b[32m     18\u001b[39m \u001b[38;5;28;01mfor\u001b[39;00m analysis_cfg \u001b[38;5;129;01min\u001b[39;00m config.analyses:\n\u001b[32m---> \u001b[39m\u001b[32m19\u001b[39m     analyzer = \u001b[43mloader\u001b[49m\u001b[43m.\u001b[49m\u001b[43mget_analysis_instance\u001b[49m\u001b[43m(\u001b[49m\u001b[43manalysis_cfg\u001b[49m\u001b[43m.\u001b[49m\u001b[43mname\u001b[49m\u001b[43m)\u001b[49m\n\u001b[32m     20\u001b[39m     func = analyzer.analyze\n\u001b[32m     21\u001b[39m     \u001b[38;5;28;01mif\u001b[39;00m \u001b[38;5;28mgetattr\u001b[39m(analysis_cfg, \u001b[33m\"\u001b[39m\u001b[33mrelevance\u001b[39m\u001b[33m\"\u001b[39m, \u001b[38;5;28;01mFalse\u001b[39;00m):\n",
      "\u001b[36mFile \u001b[39m\u001b[32m~/programmieren/python/exan/utils/config_loader.py:33\u001b[39m, in \u001b[36mConfigLoader.get_analysis_instance\u001b[39m\u001b[34m(self, name)\u001b[39m\n\u001b[32m---> \u001b[39m\u001b[32m33\u001b[39m \u001b[38;5;28;01mdef\u001b[39;00m\u001b[38;5;250m \u001b[39m\u001b[34mget_analysis_instance\u001b[39m(\u001b[38;5;28mself\u001b[39m, name): \u001b[38;5;28;01mreturn\u001b[39;00m \u001b[43mANALYSIS_REGISTRY\u001b[49m\u001b[43m[\u001b[49m\u001b[43mname\u001b[49m\u001b[43m]\u001b[49m()\n",
      "\u001b[31mKeyError\u001b[39m: 'AnovaAnalysis'"
     ]
    }
   ],
   "source": [
    "from utils.config_loader import ConfigLoader\n",
    "import logging\n",
    "import pandas as pd\n",
    "from utils.relevance_decorator import relevance_decorator\n",
    "from utils.analyses import AnovaAnalysis, TTestAnalysis, MannWhitneyAnalysis\n",
    "\n",
    "\n",
    "logging.basicConfig(level=logging.INFO, format=\"%(levelname)s: %(message)s\")\n",
    "\n",
    "\n",
    "loader = ConfigLoader(\"config.yaml\")\n",
    "config = loader.settings\n",
    "df = pd.read_csv(\"data/fake.csv\")\n",
    "\n",
    "group_col = config['group_col']\n",
    "value_col = config['value_col']\n",
    "lower_limit = float(df[config['lower_limit_col']].iloc[0])\n",
    "upper_limit = float(df[config['upper_limit_col']].iloc[0])\n",
    "\n",
    "num_groups = df[group_col].nunique()\n",
    "analyses_to_run = []\n",
    "if num_groups == 2:\n",
    "    analyses_to_run = [TTestAnalysis, MannWhitneyAnalysis]\n",
    "elif num_groups > 2:\n",
    "    analyses_to_run = [AnovaAnalysis]\n",
    "\n",
    "# Check if relevance decorator should be applied\n",
    "apply_relevance = any(getattr(analysis_cfg, \"relevance\", False) for analysis_cfg in config[\"analyses\"])\n",
    "relevance_threshold = next((getattr(analysis_cfg, \"relevance_threshold\", 0.2) for analysis_cfg in config[\"analyses\"] if hasattr(analysis_cfg, \"relevance_threshold\")), 0.2)\n",
    "\n",
    "\n",
    "for analysis_cls in analyses_to_run:\n",
    "    analyzer = analysis_cls()\n",
    "    func = analyzer.analyze\n",
    "    if apply_relevance:\n",
    "        func = relevance_decorator(\n",
    "            lower_limit,\n",
    "            upper_limit,\n",
    "            relevance_threshold,\n",
    "        )(func)\n",
    "    result = func(df, group_col, value_col)\n",
    "    logging.info(f\"{analysis_cls.__name__}: {result}\")\n",
    "\n",
    "for plot_cfg in config['plots']:\n",
    "    plotter = loader.get_plot_instance(plot_cfg['name'])\n",
    "    plotter.plot(df, group_col, value_col, lower_limit, upper_limit)\n"
   ]
  },
  {
   "cell_type": "code",
   "execution_count": 3,
   "id": "ba9c5296",
   "metadata": {},
   "outputs": [
    {
     "data": {
      "text/plain": [
       "Box({'name': 'TTestAnalysis', 'relevance': False})"
      ]
     },
     "execution_count": 3,
     "metadata": {},
     "output_type": "execute_result"
    }
   ],
   "source": [
    "config.analyses[1]\n"
   ]
  }
 ],
 "metadata": {
  "kernelspec": {
   "display_name": "exan",
   "language": "python",
   "name": "python3"
  },
  "language_info": {
   "codemirror_mode": {
    "name": "ipython",
    "version": 3
   },
   "file_extension": ".py",
   "mimetype": "text/x-python",
   "name": "python",
   "nbconvert_exporter": "python",
   "pygments_lexer": "ipython3",
   "version": "3.12.9"
  }
 },
 "nbformat": 4,
 "nbformat_minor": 5
}
