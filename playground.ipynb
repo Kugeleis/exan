{
 "cells": [
  {
   "cell_type": "code",
   "execution_count": null,
   "id": "e8034ad2",
   "metadata": {},
   "outputs": [],
   "source": [
    "# generate fake float data with n goups\n",
    "import random\n",
    "import sys \n",
    "import argparse\n",
    "import numpy as np\n",
    "\n",
    "def generate_data(n, m):\n",
    "    data = []\n",
    "    for i in range(n):\n",
    "        group_data = [random.uniform(0, 100) for _ in range(m)]\n",
    "        data.append(group_data)\n",
    "    return np.array(data)"
   ]
  }
 ],
 "metadata": {
  "language_info": {
   "name": "python"
  }
 },
 "nbformat": 4,
 "nbformat_minor": 5
}
