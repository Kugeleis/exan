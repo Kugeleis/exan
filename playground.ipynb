{
 "cells": [
  {
   "cell_type": "code",
   "execution_count": 1,
   "id": "ba9c5296",
   "metadata": {},
   "outputs": [],
   "source": [
    "from scripts import add_continent_column as ac\n",
    "\n",
    "file = \"data/co2_pcap_cons.csv\"\n",
    "df = ac.add_continent_column(file)"
   ]
  },
  {
   "cell_type": "code",
   "execution_count": 3,
   "id": "3aeab41f",
   "metadata": {},
   "outputs": [],
   "source": [
    "# move column continent to the front\n",
    "cols = df.columns.tolist()\n",
    "cols.insert(0, cols.pop(cols.index('continent')))\n",
    "df = df[cols]"
   ]
  },
  {
   "cell_type": "code",
   "execution_count": 8,
   "id": "d0ec0278",
   "metadata": {},
   "outputs": [],
   "source": [
    "from pathlib import Path\n",
    "\n",
    "\n",
    "df.to_csv(Path(file).parent / (Path(file).stem + \"_with_continent.csv\"), index=False)"
   ]
  },
  {
   "cell_type": "code",
   "execution_count": null,
   "id": "e2418f08",
   "metadata": {},
   "outputs": [],
   "source": []
  },
  {
   "cell_type": "code",
   "execution_count": null,
   "id": "a9e1c63d",
   "metadata": {},
   "outputs": [],
   "source": [
    "from utils.config_loader import ConfigLoader\n",
    "\n",
    "config_loader = ConfigLoader()\n",
    "config = config_loader.settings\n",
    "print(config)"
   ]
  }
 ],
 "metadata": {
  "kernelspec": {
   "display_name": "exan",
   "language": "python",
   "name": "python3"
  },
  "language_info": {
   "codemirror_mode": {
    "name": "ipython",
    "version": 3
   },
   "file_extension": ".py",
   "mimetype": "text/x-python",
   "name": "python",
   "nbconvert_exporter": "python",
   "pygments_lexer": "ipython3",
   "version": "3.12.8"
  }
 },
 "nbformat": 4,
 "nbformat_minor": 5
}